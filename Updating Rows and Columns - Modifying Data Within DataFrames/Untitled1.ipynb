{
 "cells": [
  {
   "cell_type": "code",
   "execution_count": 105,
   "id": "a0d92b65",
   "metadata": {},
   "outputs": [],
   "source": [
    "working_data={\n",
    "    \"name_first\":[\"shiva\",\"honey\",'kannama',\"subhash\"],\n",
    "    \"name_last\":[\"venkatesan\",\"rajkumar\",\"rajkumar\",\"venkatesan\"],\n",
    "    \"mail_ID\":[\"shiva@hotmail.com\",\"honey@hotmail.com\",\"kannama@hotmail.com\",\"bose@hotmail.com\"]\n",
    "}"
   ]
  },
  {
   "cell_type": "code",
   "execution_count": 106,
   "id": "825042a5",
   "metadata": {},
   "outputs": [],
   "source": [
    "import pandas as pd"
   ]
  },
  {
   "cell_type": "code",
   "execution_count": 107,
   "id": "97dcc8bb",
   "metadata": {},
   "outputs": [],
   "source": [
    "df=pd.DataFrame(working_data)"
   ]
  },
  {
   "cell_type": "code",
   "execution_count": 108,
   "id": "6194e706",
   "metadata": {},
   "outputs": [
    {
     "data": {
      "text/html": [
       "<div>\n",
       "<style scoped>\n",
       "    .dataframe tbody tr th:only-of-type {\n",
       "        vertical-align: middle;\n",
       "    }\n",
       "\n",
       "    .dataframe tbody tr th {\n",
       "        vertical-align: top;\n",
       "    }\n",
       "\n",
       "    .dataframe thead th {\n",
       "        text-align: right;\n",
       "    }\n",
       "</style>\n",
       "<table border=\"1\" class=\"dataframe\">\n",
       "  <thead>\n",
       "    <tr style=\"text-align: right;\">\n",
       "      <th></th>\n",
       "      <th>name_first</th>\n",
       "      <th>name_last</th>\n",
       "      <th>mail_ID</th>\n",
       "    </tr>\n",
       "  </thead>\n",
       "  <tbody>\n",
       "    <tr>\n",
       "      <th>0</th>\n",
       "      <td>shiva</td>\n",
       "      <td>venkatesan</td>\n",
       "      <td>shiva@hotmail.com</td>\n",
       "    </tr>\n",
       "    <tr>\n",
       "      <th>1</th>\n",
       "      <td>honey</td>\n",
       "      <td>rajkumar</td>\n",
       "      <td>honey@hotmail.com</td>\n",
       "    </tr>\n",
       "    <tr>\n",
       "      <th>2</th>\n",
       "      <td>kannama</td>\n",
       "      <td>rajkumar</td>\n",
       "      <td>kannama@hotmail.com</td>\n",
       "    </tr>\n",
       "    <tr>\n",
       "      <th>3</th>\n",
       "      <td>subhash</td>\n",
       "      <td>venkatesan</td>\n",
       "      <td>bose@hotmail.com</td>\n",
       "    </tr>\n",
       "  </tbody>\n",
       "</table>\n",
       "</div>"
      ],
      "text/plain": [
       "  name_first   name_last              mail_ID\n",
       "0      shiva  venkatesan    shiva@hotmail.com\n",
       "1      honey    rajkumar    honey@hotmail.com\n",
       "2    kannama    rajkumar  kannama@hotmail.com\n",
       "3    subhash  venkatesan     bose@hotmail.com"
      ]
     },
     "execution_count": 108,
     "metadata": {},
     "output_type": "execute_result"
    }
   ],
   "source": [
    "df"
   ]
  },
  {
   "cell_type": "code",
   "execution_count": 109,
   "id": "2d9bf368",
   "metadata": {},
   "outputs": [
    {
     "data": {
      "text/plain": [
       "Index(['name_first', 'name_last', 'mail_ID'], dtype='object')"
      ]
     },
     "execution_count": 109,
     "metadata": {},
     "output_type": "execute_result"
    }
   ],
   "source": [
    "df.columns\n"
   ]
  },
  {
   "cell_type": "code",
   "execution_count": 110,
   "id": "c40b7c42",
   "metadata": {},
   "outputs": [],
   "source": [
    "df.columns=['first_name','last_name','Mail_id']"
   ]
  },
  {
   "cell_type": "code",
   "execution_count": 111,
   "id": "3a5e7951",
   "metadata": {},
   "outputs": [
    {
     "data": {
      "text/html": [
       "<div>\n",
       "<style scoped>\n",
       "    .dataframe tbody tr th:only-of-type {\n",
       "        vertical-align: middle;\n",
       "    }\n",
       "\n",
       "    .dataframe tbody tr th {\n",
       "        vertical-align: top;\n",
       "    }\n",
       "\n",
       "    .dataframe thead th {\n",
       "        text-align: right;\n",
       "    }\n",
       "</style>\n",
       "<table border=\"1\" class=\"dataframe\">\n",
       "  <thead>\n",
       "    <tr style=\"text-align: right;\">\n",
       "      <th></th>\n",
       "      <th>first_name</th>\n",
       "      <th>last_name</th>\n",
       "      <th>Mail_id</th>\n",
       "    </tr>\n",
       "  </thead>\n",
       "  <tbody>\n",
       "    <tr>\n",
       "      <th>0</th>\n",
       "      <td>shiva</td>\n",
       "      <td>venkatesan</td>\n",
       "      <td>shiva@hotmail.com</td>\n",
       "    </tr>\n",
       "    <tr>\n",
       "      <th>1</th>\n",
       "      <td>honey</td>\n",
       "      <td>rajkumar</td>\n",
       "      <td>honey@hotmail.com</td>\n",
       "    </tr>\n",
       "    <tr>\n",
       "      <th>2</th>\n",
       "      <td>kannama</td>\n",
       "      <td>rajkumar</td>\n",
       "      <td>kannama@hotmail.com</td>\n",
       "    </tr>\n",
       "    <tr>\n",
       "      <th>3</th>\n",
       "      <td>subhash</td>\n",
       "      <td>venkatesan</td>\n",
       "      <td>bose@hotmail.com</td>\n",
       "    </tr>\n",
       "  </tbody>\n",
       "</table>\n",
       "</div>"
      ],
      "text/plain": [
       "  first_name   last_name              Mail_id\n",
       "0      shiva  venkatesan    shiva@hotmail.com\n",
       "1      honey    rajkumar    honey@hotmail.com\n",
       "2    kannama    rajkumar  kannama@hotmail.com\n",
       "3    subhash  venkatesan     bose@hotmail.com"
      ]
     },
     "execution_count": 111,
     "metadata": {},
     "output_type": "execute_result"
    }
   ],
   "source": [
    "df"
   ]
  },
  {
   "cell_type": "code",
   "execution_count": 112,
   "id": "531e2ea9",
   "metadata": {},
   "outputs": [
    {
     "ename": "SyntaxError",
     "evalue": "cannot assign to literal (1529974405.py, line 1)",
     "output_type": "error",
     "traceback": [
      "\u001b[1;36m  Input \u001b[1;32mIn [112]\u001b[1;36m\u001b[0m\n\u001b[1;33m    df.columns['first_name']=['first_name'.upper() for 'first_name' in df.columns]\u001b[0m\n\u001b[1;37m                                                       ^\u001b[0m\n\u001b[1;31mSyntaxError\u001b[0m\u001b[1;31m:\u001b[0m cannot assign to literal\n"
     ]
    }
   ],
   "source": [
    "df.columns['first_name']=['first_name'.upper() for 'first_name' in df.columns]"
   ]
  },
  {
   "cell_type": "code",
   "execution_count": 113,
   "id": "573ac6c9",
   "metadata": {},
   "outputs": [
    {
     "data": {
      "text/html": [
       "<div>\n",
       "<style scoped>\n",
       "    .dataframe tbody tr th:only-of-type {\n",
       "        vertical-align: middle;\n",
       "    }\n",
       "\n",
       "    .dataframe tbody tr th {\n",
       "        vertical-align: top;\n",
       "    }\n",
       "\n",
       "    .dataframe thead th {\n",
       "        text-align: right;\n",
       "    }\n",
       "</style>\n",
       "<table border=\"1\" class=\"dataframe\">\n",
       "  <thead>\n",
       "    <tr style=\"text-align: right;\">\n",
       "      <th></th>\n",
       "      <th>first_name</th>\n",
       "      <th>last_name</th>\n",
       "      <th>Mail_id</th>\n",
       "    </tr>\n",
       "  </thead>\n",
       "  <tbody>\n",
       "    <tr>\n",
       "      <th>0</th>\n",
       "      <td>shiva</td>\n",
       "      <td>venkatesan</td>\n",
       "      <td>shiva@hotmail.com</td>\n",
       "    </tr>\n",
       "    <tr>\n",
       "      <th>1</th>\n",
       "      <td>honey</td>\n",
       "      <td>rajkumar</td>\n",
       "      <td>honey@hotmail.com</td>\n",
       "    </tr>\n",
       "    <tr>\n",
       "      <th>2</th>\n",
       "      <td>kannama</td>\n",
       "      <td>rajkumar</td>\n",
       "      <td>kannama@hotmail.com</td>\n",
       "    </tr>\n",
       "    <tr>\n",
       "      <th>3</th>\n",
       "      <td>subhash</td>\n",
       "      <td>venkatesan</td>\n",
       "      <td>bose@hotmail.com</td>\n",
       "    </tr>\n",
       "  </tbody>\n",
       "</table>\n",
       "</div>"
      ],
      "text/plain": [
       "  first_name   last_name              Mail_id\n",
       "0      shiva  venkatesan    shiva@hotmail.com\n",
       "1      honey    rajkumar    honey@hotmail.com\n",
       "2    kannama    rajkumar  kannama@hotmail.com\n",
       "3    subhash  venkatesan     bose@hotmail.com"
      ]
     },
     "execution_count": 113,
     "metadata": {},
     "output_type": "execute_result"
    }
   ],
   "source": [
    "df"
   ]
  },
  {
   "cell_type": "code",
   "execution_count": 114,
   "id": "65e0b156",
   "metadata": {},
   "outputs": [],
   "source": [
    "df.columns =[x.upper() for x in df.columns]"
   ]
  },
  {
   "cell_type": "code",
   "execution_count": 115,
   "id": "35e842d3",
   "metadata": {},
   "outputs": [
    {
     "data": {
      "text/html": [
       "<div>\n",
       "<style scoped>\n",
       "    .dataframe tbody tr th:only-of-type {\n",
       "        vertical-align: middle;\n",
       "    }\n",
       "\n",
       "    .dataframe tbody tr th {\n",
       "        vertical-align: top;\n",
       "    }\n",
       "\n",
       "    .dataframe thead th {\n",
       "        text-align: right;\n",
       "    }\n",
       "</style>\n",
       "<table border=\"1\" class=\"dataframe\">\n",
       "  <thead>\n",
       "    <tr style=\"text-align: right;\">\n",
       "      <th></th>\n",
       "      <th>FIRST_NAME</th>\n",
       "      <th>LAST_NAME</th>\n",
       "      <th>MAIL_ID</th>\n",
       "    </tr>\n",
       "  </thead>\n",
       "  <tbody>\n",
       "    <tr>\n",
       "      <th>0</th>\n",
       "      <td>shiva</td>\n",
       "      <td>venkatesan</td>\n",
       "      <td>shiva@hotmail.com</td>\n",
       "    </tr>\n",
       "    <tr>\n",
       "      <th>1</th>\n",
       "      <td>honey</td>\n",
       "      <td>rajkumar</td>\n",
       "      <td>honey@hotmail.com</td>\n",
       "    </tr>\n",
       "    <tr>\n",
       "      <th>2</th>\n",
       "      <td>kannama</td>\n",
       "      <td>rajkumar</td>\n",
       "      <td>kannama@hotmail.com</td>\n",
       "    </tr>\n",
       "    <tr>\n",
       "      <th>3</th>\n",
       "      <td>subhash</td>\n",
       "      <td>venkatesan</td>\n",
       "      <td>bose@hotmail.com</td>\n",
       "    </tr>\n",
       "  </tbody>\n",
       "</table>\n",
       "</div>"
      ],
      "text/plain": [
       "  FIRST_NAME   LAST_NAME              MAIL_ID\n",
       "0      shiva  venkatesan    shiva@hotmail.com\n",
       "1      honey    rajkumar    honey@hotmail.com\n",
       "2    kannama    rajkumar  kannama@hotmail.com\n",
       "3    subhash  venkatesan     bose@hotmail.com"
      ]
     },
     "execution_count": 115,
     "metadata": {},
     "output_type": "execute_result"
    }
   ],
   "source": [
    "df"
   ]
  },
  {
   "cell_type": "code",
   "execution_count": 116,
   "id": "527d877f",
   "metadata": {},
   "outputs": [],
   "source": [
    "df.columns =df.columns.str.replace('FIRST_NAME','original_name')"
   ]
  },
  {
   "cell_type": "code",
   "execution_count": 117,
   "id": "6ee19ac4",
   "metadata": {},
   "outputs": [
    {
     "data": {
      "text/html": [
       "<div>\n",
       "<style scoped>\n",
       "    .dataframe tbody tr th:only-of-type {\n",
       "        vertical-align: middle;\n",
       "    }\n",
       "\n",
       "    .dataframe tbody tr th {\n",
       "        vertical-align: top;\n",
       "    }\n",
       "\n",
       "    .dataframe thead th {\n",
       "        text-align: right;\n",
       "    }\n",
       "</style>\n",
       "<table border=\"1\" class=\"dataframe\">\n",
       "  <thead>\n",
       "    <tr style=\"text-align: right;\">\n",
       "      <th></th>\n",
       "      <th>original_name</th>\n",
       "      <th>LAST_NAME</th>\n",
       "      <th>MAIL_ID</th>\n",
       "    </tr>\n",
       "  </thead>\n",
       "  <tbody>\n",
       "    <tr>\n",
       "      <th>0</th>\n",
       "      <td>shiva</td>\n",
       "      <td>venkatesan</td>\n",
       "      <td>shiva@hotmail.com</td>\n",
       "    </tr>\n",
       "    <tr>\n",
       "      <th>1</th>\n",
       "      <td>honey</td>\n",
       "      <td>rajkumar</td>\n",
       "      <td>honey@hotmail.com</td>\n",
       "    </tr>\n",
       "    <tr>\n",
       "      <th>2</th>\n",
       "      <td>kannama</td>\n",
       "      <td>rajkumar</td>\n",
       "      <td>kannama@hotmail.com</td>\n",
       "    </tr>\n",
       "    <tr>\n",
       "      <th>3</th>\n",
       "      <td>subhash</td>\n",
       "      <td>venkatesan</td>\n",
       "      <td>bose@hotmail.com</td>\n",
       "    </tr>\n",
       "  </tbody>\n",
       "</table>\n",
       "</div>"
      ],
      "text/plain": [
       "  original_name   LAST_NAME              MAIL_ID\n",
       "0         shiva  venkatesan    shiva@hotmail.com\n",
       "1         honey    rajkumar    honey@hotmail.com\n",
       "2       kannama    rajkumar  kannama@hotmail.com\n",
       "3       subhash  venkatesan     bose@hotmail.com"
      ]
     },
     "execution_count": 117,
     "metadata": {},
     "output_type": "execute_result"
    }
   ],
   "source": [
    "df"
   ]
  },
  {
   "cell_type": "code",
   "execution_count": 118,
   "id": "adab704c",
   "metadata": {},
   "outputs": [],
   "source": [
    "df.columns =df.columns.str.replace('_',' ')"
   ]
  },
  {
   "cell_type": "code",
   "execution_count": 119,
   "id": "0ecac97b",
   "metadata": {},
   "outputs": [
    {
     "data": {
      "text/html": [
       "<div>\n",
       "<style scoped>\n",
       "    .dataframe tbody tr th:only-of-type {\n",
       "        vertical-align: middle;\n",
       "    }\n",
       "\n",
       "    .dataframe tbody tr th {\n",
       "        vertical-align: top;\n",
       "    }\n",
       "\n",
       "    .dataframe thead th {\n",
       "        text-align: right;\n",
       "    }\n",
       "</style>\n",
       "<table border=\"1\" class=\"dataframe\">\n",
       "  <thead>\n",
       "    <tr style=\"text-align: right;\">\n",
       "      <th></th>\n",
       "      <th>original name</th>\n",
       "      <th>LAST NAME</th>\n",
       "      <th>MAIL ID</th>\n",
       "    </tr>\n",
       "  </thead>\n",
       "  <tbody>\n",
       "    <tr>\n",
       "      <th>0</th>\n",
       "      <td>shiva</td>\n",
       "      <td>venkatesan</td>\n",
       "      <td>shiva@hotmail.com</td>\n",
       "    </tr>\n",
       "    <tr>\n",
       "      <th>1</th>\n",
       "      <td>honey</td>\n",
       "      <td>rajkumar</td>\n",
       "      <td>honey@hotmail.com</td>\n",
       "    </tr>\n",
       "    <tr>\n",
       "      <th>2</th>\n",
       "      <td>kannama</td>\n",
       "      <td>rajkumar</td>\n",
       "      <td>kannama@hotmail.com</td>\n",
       "    </tr>\n",
       "    <tr>\n",
       "      <th>3</th>\n",
       "      <td>subhash</td>\n",
       "      <td>venkatesan</td>\n",
       "      <td>bose@hotmail.com</td>\n",
       "    </tr>\n",
       "  </tbody>\n",
       "</table>\n",
       "</div>"
      ],
      "text/plain": [
       "  original name   LAST NAME              MAIL ID\n",
       "0         shiva  venkatesan    shiva@hotmail.com\n",
       "1         honey    rajkumar    honey@hotmail.com\n",
       "2       kannama    rajkumar  kannama@hotmail.com\n",
       "3       subhash  venkatesan     bose@hotmail.com"
      ]
     },
     "execution_count": 119,
     "metadata": {},
     "output_type": "execute_result"
    }
   ],
   "source": [
    "df"
   ]
  },
  {
   "cell_type": "code",
   "execution_count": 120,
   "id": "ee712edf",
   "metadata": {},
   "outputs": [],
   "source": [
    "df.columns =df.columns.str.upper()"
   ]
  },
  {
   "cell_type": "code",
   "execution_count": 121,
   "id": "c68741b8",
   "metadata": {},
   "outputs": [
    {
     "data": {
      "text/html": [
       "<div>\n",
       "<style scoped>\n",
       "    .dataframe tbody tr th:only-of-type {\n",
       "        vertical-align: middle;\n",
       "    }\n",
       "\n",
       "    .dataframe tbody tr th {\n",
       "        vertical-align: top;\n",
       "    }\n",
       "\n",
       "    .dataframe thead th {\n",
       "        text-align: right;\n",
       "    }\n",
       "</style>\n",
       "<table border=\"1\" class=\"dataframe\">\n",
       "  <thead>\n",
       "    <tr style=\"text-align: right;\">\n",
       "      <th></th>\n",
       "      <th>ORIGINAL NAME</th>\n",
       "      <th>LAST NAME</th>\n",
       "      <th>MAIL ID</th>\n",
       "    </tr>\n",
       "  </thead>\n",
       "  <tbody>\n",
       "    <tr>\n",
       "      <th>0</th>\n",
       "      <td>shiva</td>\n",
       "      <td>venkatesan</td>\n",
       "      <td>shiva@hotmail.com</td>\n",
       "    </tr>\n",
       "    <tr>\n",
       "      <th>1</th>\n",
       "      <td>honey</td>\n",
       "      <td>rajkumar</td>\n",
       "      <td>honey@hotmail.com</td>\n",
       "    </tr>\n",
       "    <tr>\n",
       "      <th>2</th>\n",
       "      <td>kannama</td>\n",
       "      <td>rajkumar</td>\n",
       "      <td>kannama@hotmail.com</td>\n",
       "    </tr>\n",
       "    <tr>\n",
       "      <th>3</th>\n",
       "      <td>subhash</td>\n",
       "      <td>venkatesan</td>\n",
       "      <td>bose@hotmail.com</td>\n",
       "    </tr>\n",
       "  </tbody>\n",
       "</table>\n",
       "</div>"
      ],
      "text/plain": [
       "  ORIGINAL NAME   LAST NAME              MAIL ID\n",
       "0         shiva  venkatesan    shiva@hotmail.com\n",
       "1         honey    rajkumar    honey@hotmail.com\n",
       "2       kannama    rajkumar  kannama@hotmail.com\n",
       "3       subhash  venkatesan     bose@hotmail.com"
      ]
     },
     "execution_count": 121,
     "metadata": {},
     "output_type": "execute_result"
    }
   ],
   "source": [
    "df"
   ]
  },
  {
   "cell_type": "code",
   "execution_count": 122,
   "id": "16921ab5",
   "metadata": {},
   "outputs": [],
   "source": [
    "df.columns =df.columns.str.replace(' ','_')"
   ]
  },
  {
   "cell_type": "code",
   "execution_count": 123,
   "id": "b61ffaba",
   "metadata": {},
   "outputs": [
    {
     "data": {
      "text/html": [
       "<div>\n",
       "<style scoped>\n",
       "    .dataframe tbody tr th:only-of-type {\n",
       "        vertical-align: middle;\n",
       "    }\n",
       "\n",
       "    .dataframe tbody tr th {\n",
       "        vertical-align: top;\n",
       "    }\n",
       "\n",
       "    .dataframe thead th {\n",
       "        text-align: right;\n",
       "    }\n",
       "</style>\n",
       "<table border=\"1\" class=\"dataframe\">\n",
       "  <thead>\n",
       "    <tr style=\"text-align: right;\">\n",
       "      <th></th>\n",
       "      <th>ORIGINAL_NAME</th>\n",
       "      <th>LAST_NAME</th>\n",
       "      <th>MAIL_ID</th>\n",
       "    </tr>\n",
       "  </thead>\n",
       "  <tbody>\n",
       "    <tr>\n",
       "      <th>0</th>\n",
       "      <td>shiva</td>\n",
       "      <td>venkatesan</td>\n",
       "      <td>shiva@hotmail.com</td>\n",
       "    </tr>\n",
       "    <tr>\n",
       "      <th>1</th>\n",
       "      <td>honey</td>\n",
       "      <td>rajkumar</td>\n",
       "      <td>honey@hotmail.com</td>\n",
       "    </tr>\n",
       "    <tr>\n",
       "      <th>2</th>\n",
       "      <td>kannama</td>\n",
       "      <td>rajkumar</td>\n",
       "      <td>kannama@hotmail.com</td>\n",
       "    </tr>\n",
       "    <tr>\n",
       "      <th>3</th>\n",
       "      <td>subhash</td>\n",
       "      <td>venkatesan</td>\n",
       "      <td>bose@hotmail.com</td>\n",
       "    </tr>\n",
       "  </tbody>\n",
       "</table>\n",
       "</div>"
      ],
      "text/plain": [
       "  ORIGINAL_NAME   LAST_NAME              MAIL_ID\n",
       "0         shiva  venkatesan    shiva@hotmail.com\n",
       "1         honey    rajkumar    honey@hotmail.com\n",
       "2       kannama    rajkumar  kannama@hotmail.com\n",
       "3       subhash  venkatesan     bose@hotmail.com"
      ]
     },
     "execution_count": 123,
     "metadata": {},
     "output_type": "execute_result"
    }
   ],
   "source": [
    "df"
   ]
  },
  {
   "cell_type": "code",
   "execution_count": 124,
   "id": "36b692f5",
   "metadata": {},
   "outputs": [],
   "source": [
    "df.rename(columns={'ORIGINAL_NAME':'first_name','LAST_NAME':'second_name','MAIL_ID':'mail__id'},inplace=True)"
   ]
  },
  {
   "cell_type": "code",
   "execution_count": 125,
   "id": "7e2da4d9",
   "metadata": {},
   "outputs": [
    {
     "data": {
      "text/html": [
       "<div>\n",
       "<style scoped>\n",
       "    .dataframe tbody tr th:only-of-type {\n",
       "        vertical-align: middle;\n",
       "    }\n",
       "\n",
       "    .dataframe tbody tr th {\n",
       "        vertical-align: top;\n",
       "    }\n",
       "\n",
       "    .dataframe thead th {\n",
       "        text-align: right;\n",
       "    }\n",
       "</style>\n",
       "<table border=\"1\" class=\"dataframe\">\n",
       "  <thead>\n",
       "    <tr style=\"text-align: right;\">\n",
       "      <th></th>\n",
       "      <th>first_name</th>\n",
       "      <th>second_name</th>\n",
       "      <th>mail__id</th>\n",
       "    </tr>\n",
       "  </thead>\n",
       "  <tbody>\n",
       "    <tr>\n",
       "      <th>0</th>\n",
       "      <td>shiva</td>\n",
       "      <td>venkatesan</td>\n",
       "      <td>shiva@hotmail.com</td>\n",
       "    </tr>\n",
       "    <tr>\n",
       "      <th>1</th>\n",
       "      <td>honey</td>\n",
       "      <td>rajkumar</td>\n",
       "      <td>honey@hotmail.com</td>\n",
       "    </tr>\n",
       "    <tr>\n",
       "      <th>2</th>\n",
       "      <td>kannama</td>\n",
       "      <td>rajkumar</td>\n",
       "      <td>kannama@hotmail.com</td>\n",
       "    </tr>\n",
       "    <tr>\n",
       "      <th>3</th>\n",
       "      <td>subhash</td>\n",
       "      <td>venkatesan</td>\n",
       "      <td>bose@hotmail.com</td>\n",
       "    </tr>\n",
       "  </tbody>\n",
       "</table>\n",
       "</div>"
      ],
      "text/plain": [
       "  first_name second_name             mail__id\n",
       "0      shiva  venkatesan    shiva@hotmail.com\n",
       "1      honey    rajkumar    honey@hotmail.com\n",
       "2    kannama    rajkumar  kannama@hotmail.com\n",
       "3    subhash  venkatesan     bose@hotmail.com"
      ]
     },
     "execution_count": 125,
     "metadata": {},
     "output_type": "execute_result"
    }
   ],
   "source": [
    "df\n"
   ]
  },
  {
   "cell_type": "code",
   "execution_count": null,
   "id": "d599fd8c",
   "metadata": {},
   "outputs": [],
   "source": []
  },
  {
   "cell_type": "code",
   "execution_count": 126,
   "id": "753c9127",
   "metadata": {},
   "outputs": [
    {
     "data": {
      "text/html": [
       "<div>\n",
       "<style scoped>\n",
       "    .dataframe tbody tr th:only-of-type {\n",
       "        vertical-align: middle;\n",
       "    }\n",
       "\n",
       "    .dataframe tbody tr th {\n",
       "        vertical-align: top;\n",
       "    }\n",
       "\n",
       "    .dataframe thead th {\n",
       "        text-align: right;\n",
       "    }\n",
       "</style>\n",
       "<table border=\"1\" class=\"dataframe\">\n",
       "  <thead>\n",
       "    <tr style=\"text-align: right;\">\n",
       "      <th></th>\n",
       "      <th>first_name</th>\n",
       "      <th>second_name</th>\n",
       "      <th>mail__id</th>\n",
       "    </tr>\n",
       "  </thead>\n",
       "  <tbody>\n",
       "    <tr>\n",
       "      <th>0</th>\n",
       "      <td>shiva</td>\n",
       "      <td>venkatesan</td>\n",
       "      <td>shiva@hotmail.com</td>\n",
       "    </tr>\n",
       "    <tr>\n",
       "      <th>1</th>\n",
       "      <td>honey</td>\n",
       "      <td>rajkumar</td>\n",
       "      <td>honey@hotmail.com</td>\n",
       "    </tr>\n",
       "    <tr>\n",
       "      <th>2</th>\n",
       "      <td>kannama</td>\n",
       "      <td>rajkumar</td>\n",
       "      <td>kannama@hotmail.com</td>\n",
       "    </tr>\n",
       "    <tr>\n",
       "      <th>3</th>\n",
       "      <td>subhash</td>\n",
       "      <td>venkatesan</td>\n",
       "      <td>bose@hotmail.com</td>\n",
       "    </tr>\n",
       "  </tbody>\n",
       "</table>\n",
       "</div>"
      ],
      "text/plain": [
       "  first_name second_name             mail__id\n",
       "0      shiva  venkatesan    shiva@hotmail.com\n",
       "1      honey    rajkumar    honey@hotmail.com\n",
       "2    kannama    rajkumar  kannama@hotmail.com\n",
       "3    subhash  venkatesan     bose@hotmail.com"
      ]
     },
     "execution_count": 126,
     "metadata": {},
     "output_type": "execute_result"
    }
   ],
   "source": [
    "df"
   ]
  },
  {
   "cell_type": "code",
   "execution_count": 133,
   "id": "46581144",
   "metadata": {},
   "outputs": [],
   "source": [
    "df.loc[2,['second_name','mail__id']]=['rk','adirk@hotmail.com']"
   ]
  },
  {
   "cell_type": "code",
   "execution_count": 134,
   "id": "b077f3fc",
   "metadata": {},
   "outputs": [
    {
     "data": {
      "text/html": [
       "<div>\n",
       "<style scoped>\n",
       "    .dataframe tbody tr th:only-of-type {\n",
       "        vertical-align: middle;\n",
       "    }\n",
       "\n",
       "    .dataframe tbody tr th {\n",
       "        vertical-align: top;\n",
       "    }\n",
       "\n",
       "    .dataframe thead th {\n",
       "        text-align: right;\n",
       "    }\n",
       "</style>\n",
       "<table border=\"1\" class=\"dataframe\">\n",
       "  <thead>\n",
       "    <tr style=\"text-align: right;\">\n",
       "      <th></th>\n",
       "      <th>first_name</th>\n",
       "      <th>second_name</th>\n",
       "      <th>mail__id</th>\n",
       "    </tr>\n",
       "  </thead>\n",
       "  <tbody>\n",
       "    <tr>\n",
       "      <th>0</th>\n",
       "      <td>shiva</td>\n",
       "      <td>venkatesan</td>\n",
       "      <td>shiva@hotmail.com</td>\n",
       "    </tr>\n",
       "    <tr>\n",
       "      <th>1</th>\n",
       "      <td>honey</td>\n",
       "      <td>rajkumar</td>\n",
       "      <td>honey@hotmail.com</td>\n",
       "    </tr>\n",
       "    <tr>\n",
       "      <th>2</th>\n",
       "      <td>adiraa</td>\n",
       "      <td>rk</td>\n",
       "      <td>adirk@hotmail.com</td>\n",
       "    </tr>\n",
       "    <tr>\n",
       "      <th>3</th>\n",
       "      <td>subhash</td>\n",
       "      <td>venkatesan</td>\n",
       "      <td>bose@hotmail.com</td>\n",
       "    </tr>\n",
       "  </tbody>\n",
       "</table>\n",
       "</div>"
      ],
      "text/plain": [
       "  first_name second_name           mail__id\n",
       "0      shiva  venkatesan  shiva@hotmail.com\n",
       "1      honey    rajkumar  honey@hotmail.com\n",
       "2     adiraa          rk  adirk@hotmail.com\n",
       "3    subhash  venkatesan   bose@hotmail.com"
      ]
     },
     "execution_count": 134,
     "metadata": {},
     "output_type": "execute_result"
    }
   ],
   "source": [
    "df"
   ]
  },
  {
   "cell_type": "code",
   "execution_count": 135,
   "id": "724be060",
   "metadata": {},
   "outputs": [],
   "source": [
    "df.loc[2]=['adiraa','rkj','adiraarkj@hotmail.com']"
   ]
  },
  {
   "cell_type": "code",
   "execution_count": 136,
   "id": "7173cf7d",
   "metadata": {},
   "outputs": [
    {
     "data": {
      "text/html": [
       "<div>\n",
       "<style scoped>\n",
       "    .dataframe tbody tr th:only-of-type {\n",
       "        vertical-align: middle;\n",
       "    }\n",
       "\n",
       "    .dataframe tbody tr th {\n",
       "        vertical-align: top;\n",
       "    }\n",
       "\n",
       "    .dataframe thead th {\n",
       "        text-align: right;\n",
       "    }\n",
       "</style>\n",
       "<table border=\"1\" class=\"dataframe\">\n",
       "  <thead>\n",
       "    <tr style=\"text-align: right;\">\n",
       "      <th></th>\n",
       "      <th>first_name</th>\n",
       "      <th>second_name</th>\n",
       "      <th>mail__id</th>\n",
       "    </tr>\n",
       "  </thead>\n",
       "  <tbody>\n",
       "    <tr>\n",
       "      <th>0</th>\n",
       "      <td>shiva</td>\n",
       "      <td>venkatesan</td>\n",
       "      <td>shiva@hotmail.com</td>\n",
       "    </tr>\n",
       "    <tr>\n",
       "      <th>1</th>\n",
       "      <td>honey</td>\n",
       "      <td>rajkumar</td>\n",
       "      <td>honey@hotmail.com</td>\n",
       "    </tr>\n",
       "    <tr>\n",
       "      <th>2</th>\n",
       "      <td>adiraa</td>\n",
       "      <td>rkj</td>\n",
       "      <td>adiraarkj@hotmail.com</td>\n",
       "    </tr>\n",
       "    <tr>\n",
       "      <th>3</th>\n",
       "      <td>subhash</td>\n",
       "      <td>venkatesan</td>\n",
       "      <td>bose@hotmail.com</td>\n",
       "    </tr>\n",
       "  </tbody>\n",
       "</table>\n",
       "</div>"
      ],
      "text/plain": [
       "  first_name second_name               mail__id\n",
       "0      shiva  venkatesan      shiva@hotmail.com\n",
       "1      honey    rajkumar      honey@hotmail.com\n",
       "2     adiraa         rkj  adiraarkj@hotmail.com\n",
       "3    subhash  venkatesan       bose@hotmail.com"
      ]
     },
     "execution_count": 136,
     "metadata": {},
     "output_type": "execute_result"
    }
   ],
   "source": [
    "df"
   ]
  },
  {
   "cell_type": "code",
   "execution_count": 141,
   "id": "22b4e6da",
   "metadata": {},
   "outputs": [
    {
     "name": "stderr",
     "output_type": "stream",
     "text": [
      "C:\\Users\\SIVA\\AppData\\Local\\Temp\\ipykernel_16504\\2491011517.py:2: SettingWithCopyWarning: \n",
      "A value is trying to be set on a copy of a slice from a DataFrame.\n",
      "Try using .loc[row_indexer,col_indexer] = value instead\n",
      "\n",
      "See the caveats in the documentation: https://pandas.pydata.org/pandas-docs/stable/user_guide/indexing.html#returning-a-view-versus-a-copy\n",
      "  df[filt]['second_name']='abc'\n"
     ]
    }
   ],
   "source": [
    "filt=( df ['mail__id']=='bose@hotmail.com')\n",
    "df[filt]['second_name']='abc'"
   ]
  },
  {
   "cell_type": "code",
   "execution_count": 143,
   "id": "95b4ec17",
   "metadata": {},
   "outputs": [],
   "source": [
    "filt=( df ['mail__id']=='bose@hotmail.com')\n",
    "df.loc[filt,'second_name']='abc'"
   ]
  },
  {
   "cell_type": "code",
   "execution_count": 144,
   "id": "2acf3c42",
   "metadata": {},
   "outputs": [
    {
     "data": {
      "text/html": [
       "<div>\n",
       "<style scoped>\n",
       "    .dataframe tbody tr th:only-of-type {\n",
       "        vertical-align: middle;\n",
       "    }\n",
       "\n",
       "    .dataframe tbody tr th {\n",
       "        vertical-align: top;\n",
       "    }\n",
       "\n",
       "    .dataframe thead th {\n",
       "        text-align: right;\n",
       "    }\n",
       "</style>\n",
       "<table border=\"1\" class=\"dataframe\">\n",
       "  <thead>\n",
       "    <tr style=\"text-align: right;\">\n",
       "      <th></th>\n",
       "      <th>first_name</th>\n",
       "      <th>second_name</th>\n",
       "      <th>mail__id</th>\n",
       "    </tr>\n",
       "  </thead>\n",
       "  <tbody>\n",
       "    <tr>\n",
       "      <th>0</th>\n",
       "      <td>shiva</td>\n",
       "      <td>venkatesan</td>\n",
       "      <td>shiva@hotmail.com</td>\n",
       "    </tr>\n",
       "    <tr>\n",
       "      <th>1</th>\n",
       "      <td>honey</td>\n",
       "      <td>rajkumar</td>\n",
       "      <td>honey@hotmail.com</td>\n",
       "    </tr>\n",
       "    <tr>\n",
       "      <th>2</th>\n",
       "      <td>adiraa</td>\n",
       "      <td>rkj</td>\n",
       "      <td>adiraarkj@hotmail.com</td>\n",
       "    </tr>\n",
       "    <tr>\n",
       "      <th>3</th>\n",
       "      <td>subhash</td>\n",
       "      <td>abc</td>\n",
       "      <td>bose@hotmail.com</td>\n",
       "    </tr>\n",
       "  </tbody>\n",
       "</table>\n",
       "</div>"
      ],
      "text/plain": [
       "  first_name second_name               mail__id\n",
       "0      shiva  venkatesan      shiva@hotmail.com\n",
       "1      honey    rajkumar      honey@hotmail.com\n",
       "2     adiraa         rkj  adiraarkj@hotmail.com\n",
       "3    subhash         abc       bose@hotmail.com"
      ]
     },
     "execution_count": 144,
     "metadata": {},
     "output_type": "execute_result"
    }
   ],
   "source": [
    "df"
   ]
  },
  {
   "cell_type": "code",
   "execution_count": 149,
   "id": "b3dcef07",
   "metadata": {},
   "outputs": [],
   "source": [
    "df['mail__id']=df['mail__id'].str.upper()"
   ]
  },
  {
   "cell_type": "code",
   "execution_count": 150,
   "id": "01841924",
   "metadata": {},
   "outputs": [
    {
     "data": {
      "text/html": [
       "<div>\n",
       "<style scoped>\n",
       "    .dataframe tbody tr th:only-of-type {\n",
       "        vertical-align: middle;\n",
       "    }\n",
       "\n",
       "    .dataframe tbody tr th {\n",
       "        vertical-align: top;\n",
       "    }\n",
       "\n",
       "    .dataframe thead th {\n",
       "        text-align: right;\n",
       "    }\n",
       "</style>\n",
       "<table border=\"1\" class=\"dataframe\">\n",
       "  <thead>\n",
       "    <tr style=\"text-align: right;\">\n",
       "      <th></th>\n",
       "      <th>first_name</th>\n",
       "      <th>second_name</th>\n",
       "      <th>mail__id</th>\n",
       "    </tr>\n",
       "  </thead>\n",
       "  <tbody>\n",
       "    <tr>\n",
       "      <th>0</th>\n",
       "      <td>shiva</td>\n",
       "      <td>venkatesan</td>\n",
       "      <td>SHIVA@HOTMAIL.COM</td>\n",
       "    </tr>\n",
       "    <tr>\n",
       "      <th>1</th>\n",
       "      <td>honey</td>\n",
       "      <td>rajkumar</td>\n",
       "      <td>HONEY@HOTMAIL.COM</td>\n",
       "    </tr>\n",
       "    <tr>\n",
       "      <th>2</th>\n",
       "      <td>adiraa</td>\n",
       "      <td>rkj</td>\n",
       "      <td>ADIRAARKJ@HOTMAIL.COM</td>\n",
       "    </tr>\n",
       "    <tr>\n",
       "      <th>3</th>\n",
       "      <td>subhash</td>\n",
       "      <td>abc</td>\n",
       "      <td>BOSE@HOTMAIL.COM</td>\n",
       "    </tr>\n",
       "  </tbody>\n",
       "</table>\n",
       "</div>"
      ],
      "text/plain": [
       "  first_name second_name               mail__id\n",
       "0      shiva  venkatesan      SHIVA@HOTMAIL.COM\n",
       "1      honey    rajkumar      HONEY@HOTMAIL.COM\n",
       "2     adiraa         rkj  ADIRAARKJ@HOTMAIL.COM\n",
       "3    subhash         abc       BOSE@HOTMAIL.COM"
      ]
     },
     "execution_count": 150,
     "metadata": {},
     "output_type": "execute_result"
    }
   ],
   "source": [
    "df"
   ]
  },
  {
   "cell_type": "code",
   "execution_count": null,
   "id": "74412651",
   "metadata": {},
   "outputs": [],
   "source": []
  }
 ],
 "metadata": {
  "kernelspec": {
   "display_name": "Python 3 (ipykernel)",
   "language": "python",
   "name": "python3"
  },
  "language_info": {
   "codemirror_mode": {
    "name": "ipython",
    "version": 3
   },
   "file_extension": ".py",
   "mimetype": "text/x-python",
   "name": "python",
   "nbconvert_exporter": "python",
   "pygments_lexer": "ipython3",
   "version": "3.10.5"
  }
 },
 "nbformat": 4,
 "nbformat_minor": 5
}
